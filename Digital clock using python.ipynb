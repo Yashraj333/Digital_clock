{
 "cells": [
  {
   "cell_type": "markdown",
   "id": "49b3817f",
   "metadata": {},
   "source": [
    "# Digital Clock "
   ]
  },
  {
   "cell_type": "code",
   "execution_count": 32,
   "id": "74fd2372",
   "metadata": {},
   "outputs": [],
   "source": [
    "#We use \"tkinter \"library to create a graphical user interface (GUI) window."
   ]
  },
  {
   "cell_type": "code",
   "execution_count": 33,
   "id": "91850c02",
   "metadata": {},
   "outputs": [],
   "source": [
    "from tkinter import Tk\n",
    "from tkinter import Label\n",
    "import time\n",
    "import sys"
   ]
  },
  {
   "cell_type": "code",
   "execution_count": 34,
   "id": "1abe5a78",
   "metadata": {},
   "outputs": [
    {
     "data": {
      "text/plain": [
       "''"
      ]
     },
     "execution_count": 34,
     "metadata": {},
     "output_type": "execute_result"
    }
   ],
   "source": [
    "master = Tk()\n",
    "master.title(\"Digital Clock\")"
   ]
  },
  {
   "cell_type": "code",
   "execution_count": 35,
   "id": "b140e4da",
   "metadata": {},
   "outputs": [],
   "source": [
    "def update_time():\n",
    "    current_time = time.strftime(\"%H:%M:%S %p\")\n",
    "    clock.config(text=current_time)\n",
    "    clock.after(1000, update_time)        # here the current time gets update in every (1000 miliseconds)\n"
   ]
  },
  {
   "cell_type": "code",
   "execution_count": 36,
   "id": "e158eb77",
   "metadata": {},
   "outputs": [],
   "source": [
    "clock = Label(master,font=(\"Calibri\",90),bg=\"black\",fg=\"white\") # giving background and foreground color \n",
    "clock.pack()\n"
   ]
  },
  {
   "cell_type": "code",
   "execution_count": 37,
   "id": "f1a37091",
   "metadata": {},
   "outputs": [],
   "source": [
    "# Now we are calling the function\n",
    "update_time()\n",
    "\n",
    "master.mainloop()\n"
   ]
  },
  {
   "cell_type": "code",
   "execution_count": null,
   "id": "51afd9f7",
   "metadata": {},
   "outputs": [],
   "source": []
  }
 ],
 "metadata": {
  "kernelspec": {
   "display_name": "Python 3 (ipykernel)",
   "language": "python",
   "name": "python3"
  },
  "language_info": {
   "codemirror_mode": {
    "name": "ipython",
    "version": 3
   },
   "file_extension": ".py",
   "mimetype": "text/x-python",
   "name": "python",
   "nbconvert_exporter": "python",
   "pygments_lexer": "ipython3",
   "version": "3.9.12"
  }
 },
 "nbformat": 4,
 "nbformat_minor": 5
}
